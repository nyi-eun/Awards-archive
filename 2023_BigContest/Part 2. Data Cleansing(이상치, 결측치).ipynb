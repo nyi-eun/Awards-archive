{
 "cells": [
  {
   "cell_type": "markdown",
   "id": "559c1030",
   "metadata": {},
   "source": [
    "# Part 2 < 데이터 전처리 (이상치, 결측치) >"
   ]
  },
  {
   "cell_type": "markdown",
   "id": "15ded038",
   "metadata": {},
   "source": [
    "# Import"
   ]
  },
  {
   "cell_type": "code",
   "execution_count": 1,
   "id": "84fed987",
   "metadata": {},
   "outputs": [],
   "source": [
    "import pandas as pd\n",
    "import matplotlib.pyplot  as plt\n",
    "import seaborn as sns\n",
    "import numpy as np\n",
    "import warnings\n",
    "warnings.filterwarnings(\"ignore\")"
   ]
  },
  {
   "cell_type": "code",
   "execution_count": 2,
   "id": "c316986b",
   "metadata": {
    "scrolled": false
   },
   "outputs": [],
   "source": [
    "data=pd.read_csv('data/2023빅콘테스트_어드밴스드리그_예술의전당.csv')"
   ]
  },
  {
   "cell_type": "code",
   "execution_count": 3,
   "id": "64d6f14d",
   "metadata": {
    "scrolled": false
   },
   "outputs": [],
   "source": [
    "df=data.copy()"
   ]
  },
  {
   "cell_type": "code",
   "execution_count": 4,
   "id": "e397ffef",
   "metadata": {},
   "outputs": [],
   "source": [
    "num_columns =df.select_dtypes(include=np.number).columns.tolist()\n",
    "cat_columns =df.select_dtypes(exclude=np.number).columns.tolist()"
   ]
  },
  {
   "cell_type": "markdown",
   "id": "de010275",
   "metadata": {},
   "source": [
    "# 결측치 확인"
   ]
  },
  {
   "cell_type": "code",
   "execution_count": 5,
   "id": "9a590b10",
   "metadata": {},
   "outputs": [
    {
     "name": "stdout",
     "output_type": "stream",
     "text": [
      "       age \t 67.69%\n",
      "    gender \t 67.66%\n",
      "membership_type_1 \t 67.66%\n",
      "membership_type_2 \t 74.61%\n",
      "membership_type_3 \t 91.05%\n",
      "membership_type_4 \t 98.43%\n",
      "membership_type_5 \t 99.93%\n",
      "membership_type_6 \t 100.00%\n",
      " tran_date \t 0.00%\n",
      " tran_time \t 0.00%\n",
      " play_date \t 0.00%\n",
      "play_st_time \t 0.00%\n",
      "      seat \t 0.00%\n",
      "     price \t 0.00%\n",
      "ticket_cancel \t 0.00%\n",
      "discount_type \t 0.00%\n",
      "performance_code \t 0.00%\n",
      "pre_open_date \t 45.00%\n",
      " open_date \t 0.02%\n",
      "     genre \t 1.35%\n",
      "     place \t 0.00%\n",
      "running_time \t 0.00%\n",
      "intermission \t 0.00%\n",
      " member_yn \t 0.00%\n"
     ]
    }
   ],
   "source": [
    "for col in df.columns:\n",
    "    msg = f'{col:>10} \\t {100 * df[col].isnull().mean():.2f}%'\n",
    "    print(msg)"
   ]
  },
  {
   "cell_type": "markdown",
   "id": "fc798150",
   "metadata": {},
   "source": [
    "# 전체 데이터에 대한 결측치 처리"
   ]
  },
  {
   "cell_type": "markdown",
   "id": "666681f3",
   "metadata": {},
   "source": [
    "### membership_type_6 "
   ]
  },
  {
   "cell_type": "code",
   "execution_count": 6,
   "id": "8382d5b9",
   "metadata": {},
   "outputs": [],
   "source": [
    "df=df.drop(columns='membership_type_6',axis=1)"
   ]
  },
  {
   "cell_type": "markdown",
   "id": "98325baf",
   "metadata": {},
   "source": [
    "### pre_open_date"
   ]
  },
  {
   "cell_type": "code",
   "execution_count": 7,
   "id": "0fbd3d04",
   "metadata": {},
   "outputs": [],
   "source": [
    "df.pre_open_date = df.pre_open_date.fillna(0)"
   ]
  },
  {
   "cell_type": "markdown",
   "id": "148de15e",
   "metadata": {},
   "source": [
    "### open_date"
   ]
  },
  {
   "cell_type": "code",
   "execution_count": 8,
   "id": "9aca587b",
   "metadata": {},
   "outputs": [],
   "source": [
    "df.open_date = df.open_date.fillna(20221129)"
   ]
  },
  {
   "cell_type": "markdown",
   "id": "fe753022",
   "metadata": {},
   "source": [
    "### genre"
   ]
  },
  {
   "cell_type": "markdown",
   "id": "151f6ed8",
   "metadata": {},
   "source": [
    "- genre - 데이터 크롤링을 통한 대치 "
   ]
  },
  {
   "cell_type": "code",
   "execution_count": 9,
   "id": "ef64ac6c",
   "metadata": {},
   "outputs": [],
   "source": [
    "# 일부만 비어있는 경우 \n",
    "df.loc[df.performance_code == 229,'genre'] = '교향곡'\n",
    "df.loc[df.performance_code == 2215,'genre'] = '클래식'\n",
    "\n",
    "# 해당 공연코드의 장르가 전부 비어있는 겨우 - 크롤링을 통한 대치\n",
    "df.loc[df.performance_code == 2472,'genre'] = '교향곡'\n",
    "df.loc[df.performance_code == 1751,'genre'] = '클래식'\n",
    "df.loc[df.performance_code == 354,'genre'] = '클래식'\n",
    "df.loc[df.performance_code == 1405,'genre'] = '기타'\n",
    "df.loc[df.performance_code == 2818,'genre'] = '교향곡'\n",
    "df.loc[df.performance_code == 352,'genre'] = '기타'\n",
    "df.loc[df.performance_code == 1221,'genre'] = '교향곡'\n",
    "df.loc[df.performance_code == 2816,'genre'] = '클래식'\n",
    "df.loc[df.performance_code == 2819,'genre'] = '독주'\n",
    "df.loc[df.performance_code == 988,'genre'] = '교향곡'\n",
    "df.loc[df.performance_code == 47,'genre'] = '클래식'\n",
    "df.loc[df.performance_code == 852,'genre'] = '기타'\n",
    "df.loc[df.performance_code == 2937,'genre'] = '실내악'\n",
    "df.loc[df.performance_code == 588,'genre'] = '교향곡'"
   ]
  },
  {
   "cell_type": "markdown",
   "id": "fc97b5e7",
   "metadata": {},
   "source": [
    "### running_time & intermission"
   ]
  },
  {
   "cell_type": "markdown",
   "id": "249ebd09",
   "metadata": {},
   "source": [
    "- 같은 공연 코드 but, 일부는 정보 존재 일부는 정보 없는 경우, 있는 정보로 대체"
   ]
  },
  {
   "cell_type": "code",
   "execution_count": 10,
   "id": "7481fec0",
   "metadata": {},
   "outputs": [],
   "source": [
    "df.loc[df['performance_code'] == 552, 'running_time'] = 140\n",
    "df.loc[df['performance_code'] == 552, 'intermission'] = 20"
   ]
  },
  {
   "cell_type": "code",
   "execution_count": 11,
   "id": "9ab5ab5f",
   "metadata": {},
   "outputs": [],
   "source": [
    "df.loc[df['performance_code'] == 286, 'running_time'] = 120\n",
    "df.loc[df['performance_code'] == 286, 'intermission'] = 15"
   ]
  },
  {
   "cell_type": "code",
   "execution_count": 12,
   "id": "11486926",
   "metadata": {},
   "outputs": [],
   "source": [
    "df.loc[df['performance_code'] == 1750, 'running_time'] = 90"
   ]
  },
  {
   "cell_type": "code",
   "execution_count": 13,
   "id": "a5e11297",
   "metadata": {},
   "outputs": [],
   "source": [
    "df.loc[df['performance_code'] == 1491, 'running_time'] = 90"
   ]
  },
  {
   "cell_type": "code",
   "execution_count": 14,
   "id": "380b3305",
   "metadata": {},
   "outputs": [],
   "source": [
    "df.loc[df['performance_code'] == 2495, 'running_time'] = 180"
   ]
  },
  {
   "cell_type": "markdown",
   "id": "b4f6f639",
   "metadata": {},
   "source": [
    "- running_time & intermission이 0인 경우"
   ]
  },
  {
   "cell_type": "code",
   "execution_count": 15,
   "id": "d803da01",
   "metadata": {},
   "outputs": [],
   "source": [
    "#교향곡\n",
    "#해당부분부터 장르 평균값 대체\n",
    "df.loc[df['performance_code'] == 2217, 'running_time'] = 112\n",
    "df.loc[df['performance_code'] == 2217, 'intermission'] = 14"
   ]
  },
  {
   "cell_type": "code",
   "execution_count": 16,
   "id": "d5b41c9c",
   "metadata": {},
   "outputs": [],
   "source": [
    "#독주\n",
    "df.loc[df['performance_code'] == 2444, 'running_time'] = 94\n",
    "df.loc[df['performance_code'] == 2444, 'intermission'] = 14"
   ]
  },
  {
   "cell_type": "code",
   "execution_count": 17,
   "id": "c7c6d346",
   "metadata": {},
   "outputs": [],
   "source": [
    "#독주\n",
    "df.loc[df['performance_code'] == 735, 'running_time'] = 94\n",
    "df.loc[df['performance_code'] == 735, 'intermission'] = 14"
   ]
  },
  {
   "cell_type": "code",
   "execution_count": 18,
   "id": "e4c1a06f",
   "metadata": {},
   "outputs": [],
   "source": [
    "#독주\n",
    "df.loc[df['performance_code'] == 734, 'running_time'] = 94\n",
    "df.loc[df['performance_code'] == 734, 'intermission'] = 14"
   ]
  },
  {
   "cell_type": "code",
   "execution_count": 19,
   "id": "5cbd161c",
   "metadata": {},
   "outputs": [],
   "source": [
    "#실내악\n",
    "df.loc[df['performance_code'] == 2522, 'running_time'] = 98\n",
    "df.loc[df['performance_code'] == 2522, 'intermission'] = 14"
   ]
  },
  {
   "cell_type": "code",
   "execution_count": 20,
   "id": "3e328af7",
   "metadata": {},
   "outputs": [],
   "source": [
    "#실내악\n",
    "df.loc[df['performance_code'] == 1592, 'running_time'] = 98\n",
    "df.loc[df['performance_code'] == 1592, 'intermission'] = 14"
   ]
  },
  {
   "cell_type": "code",
   "execution_count": 21,
   "id": "452b0394",
   "metadata": {},
   "outputs": [],
   "source": [
    "#독주\n",
    "df.loc[df['performance_code'] == 1106, 'running_time'] = 94\n",
    "df.loc[df['performance_code'] == 1106, 'intermission'] = 14"
   ]
  },
  {
   "cell_type": "code",
   "execution_count": 22,
   "id": "986973ea",
   "metadata": {},
   "outputs": [],
   "source": [
    "#독주\n",
    "df.loc[df['performance_code'] == 1086, 'running_time'] = 94\n",
    "df.loc[df['performance_code'] == 1086, 'intermission'] = 14"
   ]
  },
  {
   "cell_type": "code",
   "execution_count": 23,
   "id": "23324940",
   "metadata": {},
   "outputs": [],
   "source": [
    "#성악\n",
    "df.loc[df['performance_code'] == 946, 'running_time'] = 108\n",
    "df.loc[df['performance_code'] == 946, 'intermission'] = 15"
   ]
  },
  {
   "cell_type": "code",
   "execution_count": 24,
   "id": "1a249465",
   "metadata": {},
   "outputs": [],
   "source": [
    "#독주\n",
    "df.loc[df['performance_code'] == 748, 'running_time'] = 94\n",
    "df.loc[df['performance_code'] == 748, 'intermission'] = 14"
   ]
  },
  {
   "cell_type": "code",
   "execution_count": 25,
   "id": "55cda78b",
   "metadata": {},
   "outputs": [],
   "source": [
    "#실내악\n",
    "df.loc[df['performance_code'] == 90, 'running_time'] = 98\n",
    "df.loc[df['performance_code'] == 90, 'intermission'] = 14"
   ]
  },
  {
   "cell_type": "markdown",
   "id": "cd81cb27",
   "metadata": {},
   "source": [
    "- running_time보다 intermission이 더 큰 경우에도 장르 평균값 대체"
   ]
  },
  {
   "cell_type": "code",
   "execution_count": 26,
   "id": "0664a532",
   "metadata": {},
   "outputs": [],
   "source": [
    "#교향곡\n",
    "df.loc[df['performance_code'] == 458, 'running_time'] = 112\n",
    "df.loc[df['performance_code'] == 458, 'intermission'] = 14"
   ]
  },
  {
   "cell_type": "code",
   "execution_count": 27,
   "id": "2c1d36ee",
   "metadata": {},
   "outputs": [],
   "source": [
    "#교향곡\n",
    "df.loc[df['performance_code'] == 2488, 'running_time'] = 112\n",
    "df.loc[df['performance_code'] == 2488, 'intermission'] = 14"
   ]
  },
  {
   "cell_type": "code",
   "execution_count": 28,
   "id": "aa719511",
   "metadata": {},
   "outputs": [],
   "source": [
    "#독주\n",
    "df.loc[df['performance_code'] == 1956, 'running_time'] = 94\n",
    "df.loc[df['performance_code'] == 1956, 'intermission'] = 14"
   ]
  },
  {
   "cell_type": "code",
   "execution_count": 29,
   "id": "9530c210",
   "metadata": {},
   "outputs": [],
   "source": [
    "#실내악\n",
    "df.loc[df['performance_code'] == 416, 'running_time'] = 98\n",
    "df.loc[df['performance_code'] == 416, 'intermission'] = 14"
   ]
  },
  {
   "cell_type": "code",
   "execution_count": 30,
   "id": "60f525a6",
   "metadata": {},
   "outputs": [],
   "source": [
    "#독주\n",
    "df.loc[df['performance_code'] == 1054, 'running_time'] = 94\n",
    "df.loc[df['performance_code'] == 1054, 'intermission'] = 14"
   ]
  },
  {
   "cell_type": "code",
   "execution_count": 31,
   "id": "a082eff6",
   "metadata": {},
   "outputs": [],
   "source": [
    "#독주\n",
    "df.loc[df['performance_code'] == 1815, 'running_time'] = 94\n",
    "df.loc[df['performance_code'] == 1815, 'intermission'] = 14"
   ]
  },
  {
   "cell_type": "code",
   "execution_count": 32,
   "id": "3eaf5536",
   "metadata": {},
   "outputs": [],
   "source": [
    "#클래식\n",
    "df.loc[df['performance_code'] == 1227, 'running_time'] = 109\n",
    "df.loc[df['performance_code'] == 1227, 'intermission'] = 14"
   ]
  },
  {
   "cell_type": "code",
   "execution_count": 33,
   "id": "f323780c",
   "metadata": {
    "scrolled": true
   },
   "outputs": [
    {
     "name": "stdout",
     "output_type": "stream",
     "text": [
      "Empty DataFrame\n",
      "Columns: [age, gender, membership_type_1, membership_type_2, membership_type_3, membership_type_4, membership_type_5, tran_date, tran_time, play_date, play_st_time, seat, price, ticket_cancel, discount_type, performance_code, pre_open_date, open_date, genre, place, running_time, intermission, member_yn]\n",
      "Index: []\n",
      "\n",
      "[0 rows x 23 columns]\n",
      "Empty DataFrame\n",
      "Columns: [age, gender, membership_type_1, membership_type_2, membership_type_3, membership_type_4, membership_type_5, tran_date, tran_time, play_date, play_st_time, seat, price, ticket_cancel, discount_type, performance_code, pre_open_date, open_date, genre, place, running_time, intermission, member_yn]\n",
      "Index: []\n",
      "\n",
      "[0 rows x 23 columns]\n",
      "Empty DataFrame\n",
      "Columns: [age, gender, membership_type_1, membership_type_2, membership_type_3, membership_type_4, membership_type_5, tran_date, tran_time, play_date, play_st_time, seat, price, ticket_cancel, discount_type, performance_code, pre_open_date, open_date, genre, place, running_time, intermission, member_yn]\n",
      "Index: []\n",
      "\n",
      "[0 rows x 23 columns]\n"
     ]
    }
   ],
   "source": [
    "#처리 완\n",
    "print(df[df.running_time < df.intermission])\n",
    "print(df[(df.running_time==0) & (df.intermission>0)])\n",
    "print(df[(df.running_time==15) & (df.intermission>0)])"
   ]
  },
  {
   "cell_type": "markdown",
   "id": "8d055d50",
   "metadata": {},
   "source": [
    "###  member = n 중에서 discount_type이 membership인 행들은 member = y로 변경"
   ]
  },
  {
   "cell_type": "code",
   "execution_count": 34,
   "id": "545941fe",
   "metadata": {},
   "outputs": [],
   "source": [
    "lst=['블루','골드','노블','그린','싹틔우미'] #법인의 경우, 골드회원(법인A) 이런 식으로 골드 회원 안에 속해있음 -> 따라서 lst에 안넣음"
   ]
  },
  {
   "cell_type": "code",
   "execution_count": 35,
   "id": "9b832677",
   "metadata": {
    "scrolled": true
   },
   "outputs": [],
   "source": [
    "for i in lst:\n",
    "    df.loc[(df['member_yn'] == 'N') & (df['discount_type'].str.contains(i)), 'member_yn'] = 'Y'"
   ]
  },
  {
   "cell_type": "markdown",
   "id": "f05bd730",
   "metadata": {},
   "source": [
    "### ' ［초대권]   '  → '초대권'으로 통일 "
   ]
  },
  {
   "cell_type": "code",
   "execution_count": 36,
   "id": "22b1676b",
   "metadata": {
    "scrolled": false
   },
   "outputs": [
    {
     "data": {
      "text/plain": [
       "array(['초대권', '한화초대석', '중앙일보 JTBC 초대권', '초대석', '［초대권］', 'Art+초대'],\n",
       "      dtype=object)"
      ]
     },
     "execution_count": 36,
     "metadata": {},
     "output_type": "execute_result"
    }
   ],
   "source": [
    "df[df.discount_type.str.contains('초대')].discount_type.unique()"
   ]
  },
  {
   "cell_type": "code",
   "execution_count": 37,
   "id": "9a5ed100",
   "metadata": {},
   "outputs": [],
   "source": [
    "df.loc[df['discount_type'] == '［초대권］', 'discount_type'] = '초대권'\n",
    "df.loc[df['discount_type'] == '［초대권］', 'discount_type'] = '초대권'"
   ]
  },
  {
   "cell_type": "code",
   "execution_count": 38,
   "id": "974f3457",
   "metadata": {},
   "outputs": [
    {
     "data": {
      "text/plain": [
       "array(['초대권', '한화초대석', '중앙일보 JTBC 초대권', '초대석', 'Art+초대'], dtype=object)"
      ]
     },
     "execution_count": 38,
     "metadata": {},
     "output_type": "execute_result"
    }
   ],
   "source": [
    "df[df.discount_type.str.contains('초대')].discount_type.unique()"
   ]
  },
  {
   "cell_type": "code",
   "execution_count": 39,
   "id": "8535c45f",
   "metadata": {},
   "outputs": [],
   "source": [
    "df_concert = df.query('place == \"콘서트홀\"')"
   ]
  },
  {
   "cell_type": "markdown",
   "id": "ba8dbde6",
   "metadata": {},
   "source": [
    "# 콘서트홀 split"
   ]
  },
  {
   "cell_type": "code",
   "execution_count": 40,
   "id": "a163df88",
   "metadata": {},
   "outputs": [],
   "source": [
    "df_concert['seat'] = df_concert['seat'].str.replace('창석','창층')"
   ]
  },
  {
   "cell_type": "code",
   "execution_count": 41,
   "id": "87027dfc",
   "metadata": {},
   "outputs": [],
   "source": [
    "# 층 \n",
    "df_concert[['층','블록(박스)-열/자리번호']] = df_concert['seat'].str.split('층',expand = True)"
   ]
  },
  {
   "cell_type": "code",
   "execution_count": 42,
   "id": "1521b714",
   "metadata": {},
   "outputs": [],
   "source": [
    "# 자리번호 \n",
    "df_concert[['블록(박스)-열','자리번호']] = df_concert['블록(박스)-열/자리번호'].str.split(' ',expand = True).iloc[:,1:]"
   ]
  },
  {
   "cell_type": "code",
   "execution_count": 43,
   "id": "0a11a94f",
   "metadata": {},
   "outputs": [],
   "source": [
    "# 블록(박스) & 열 \n",
    "df_concert[['블록(박스)','열']] = df_concert['블록(박스)-열'].str.split('블록',expand = True)"
   ]
  },
  {
   "cell_type": "code",
   "execution_count": 44,
   "id": "e3640e7b",
   "metadata": {},
   "outputs": [],
   "source": [
    "# 필요없는 column 정리 \n",
    "df_concert.drop(['seat','블록(박스)-열/자리번호','블록(박스)-열'],axis=1,inplace = True)"
   ]
  },
  {
   "cell_type": "code",
   "execution_count": 45,
   "id": "712d7920",
   "metadata": {},
   "outputs": [
    {
     "data": {
      "text/html": [
       "<div>\n",
       "<style scoped>\n",
       "    .dataframe tbody tr th:only-of-type {\n",
       "        vertical-align: middle;\n",
       "    }\n",
       "\n",
       "    .dataframe tbody tr th {\n",
       "        vertical-align: top;\n",
       "    }\n",
       "\n",
       "    .dataframe thead th {\n",
       "        text-align: right;\n",
       "    }\n",
       "</style>\n",
       "<table border=\"1\" class=\"dataframe\">\n",
       "  <thead>\n",
       "    <tr style=\"text-align: right;\">\n",
       "      <th></th>\n",
       "      <th>층</th>\n",
       "      <th>블록(박스)</th>\n",
       "      <th>열</th>\n",
       "      <th>자리번호</th>\n",
       "    </tr>\n",
       "  </thead>\n",
       "  <tbody>\n",
       "    <tr>\n",
       "      <th>90</th>\n",
       "      <td>합창</td>\n",
       "      <td>G</td>\n",
       "      <td>2열</td>\n",
       "      <td>24</td>\n",
       "    </tr>\n",
       "    <tr>\n",
       "      <th>222</th>\n",
       "      <td>합창</td>\n",
       "      <td>G</td>\n",
       "      <td>3열</td>\n",
       "      <td>9</td>\n",
       "    </tr>\n",
       "    <tr>\n",
       "      <th>247</th>\n",
       "      <td>합창</td>\n",
       "      <td>H</td>\n",
       "      <td>3열</td>\n",
       "      <td>9</td>\n",
       "    </tr>\n",
       "    <tr>\n",
       "      <th>259</th>\n",
       "      <td>합창</td>\n",
       "      <td>H</td>\n",
       "      <td>3열</td>\n",
       "      <td>13</td>\n",
       "    </tr>\n",
       "    <tr>\n",
       "      <th>344</th>\n",
       "      <td>합창</td>\n",
       "      <td>H</td>\n",
       "      <td>4열</td>\n",
       "      <td>6</td>\n",
       "    </tr>\n",
       "    <tr>\n",
       "      <th>...</th>\n",
       "      <td>...</td>\n",
       "      <td>...</td>\n",
       "      <td>...</td>\n",
       "      <td>...</td>\n",
       "    </tr>\n",
       "    <tr>\n",
       "      <th>1920666</th>\n",
       "      <td>합창</td>\n",
       "      <td>G</td>\n",
       "      <td>4열</td>\n",
       "      <td>19</td>\n",
       "    </tr>\n",
       "    <tr>\n",
       "      <th>1920681</th>\n",
       "      <td>합창</td>\n",
       "      <td>H</td>\n",
       "      <td>3열</td>\n",
       "      <td>19</td>\n",
       "    </tr>\n",
       "    <tr>\n",
       "      <th>1920745</th>\n",
       "      <td>합창</td>\n",
       "      <td>H</td>\n",
       "      <td>4열</td>\n",
       "      <td>6</td>\n",
       "    </tr>\n",
       "    <tr>\n",
       "      <th>1920811</th>\n",
       "      <td>합창</td>\n",
       "      <td>G</td>\n",
       "      <td>1열</td>\n",
       "      <td>20</td>\n",
       "    </tr>\n",
       "    <tr>\n",
       "      <th>1920852</th>\n",
       "      <td>합창</td>\n",
       "      <td>G</td>\n",
       "      <td>4열</td>\n",
       "      <td>19</td>\n",
       "    </tr>\n",
       "  </tbody>\n",
       "</table>\n",
       "<p>59336 rows × 4 columns</p>\n",
       "</div>"
      ],
      "text/plain": [
       "          층 블록(박스)   열 자리번호\n",
       "90       합창      G  2열   24\n",
       "222      합창      G  3열    9\n",
       "247      합창      H  3열    9\n",
       "259      합창      H  3열   13\n",
       "344      합창      H  4열    6\n",
       "...      ..    ...  ..  ...\n",
       "1920666  합창      G  4열   19\n",
       "1920681  합창      H  3열   19\n",
       "1920745  합창      H  4열    6\n",
       "1920811  합창      G  1열   20\n",
       "1920852  합창      G  4열   19\n",
       "\n",
       "[59336 rows x 4 columns]"
      ]
     },
     "execution_count": 45,
     "metadata": {},
     "output_type": "execute_result"
    }
   ],
   "source": [
    "df_concert[df_concert['층'].str.contains('합창')][['층','블록(박스)','열','자리번호']]"
   ]
  },
  {
   "cell_type": "code",
   "execution_count": 48,
   "id": "c0cdf5f0",
   "metadata": {
    "scrolled": true
   },
   "outputs": [],
   "source": [
    "df_concert.to_csv('data/Part2_결측치이상치완료.csv')"
   ]
  }
 ],
 "metadata": {
  "kernelspec": {
   "display_name": "Python 3 (ipykernel)",
   "language": "python",
   "name": "python3"
  },
  "language_info": {
   "codemirror_mode": {
    "name": "ipython",
    "version": 3
   },
   "file_extension": ".py",
   "mimetype": "text/x-python",
   "name": "python",
   "nbconvert_exporter": "python",
   "pygments_lexer": "ipython3",
   "version": "3.10.9"
  }
 },
 "nbformat": 4,
 "nbformat_minor": 5
}
