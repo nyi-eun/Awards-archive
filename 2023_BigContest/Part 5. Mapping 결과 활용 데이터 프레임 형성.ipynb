{
 "cells": [
  {
   "cell_type": "markdown",
   "id": "266207cf",
   "metadata": {},
   "source": [
    "# PART 5 < Mapping 결과 활용 데이터 프레임 형성 >"
   ]
  },
  {
   "cell_type": "markdown",
   "id": "074f7659",
   "metadata": {},
   "source": [
    "# Import"
   ]
  },
  {
   "cell_type": "code",
   "execution_count": 1,
   "id": "51a1fdb8",
   "metadata": {},
   "outputs": [],
   "source": [
    "import pandas as pd\n",
    "import matplotlib.pyplot  as plt\n",
    "import seaborn as sns\n",
    "import numpy as np\n",
    "import warnings\n",
    "from sklearn.preprocessing import LabelEncoder\n",
    "from sklearn.cluster import KMeans\n",
    "from sklearn.preprocessing import StandardScaler\n",
    "from yellowbrick.cluster import KElbowVisualizer\n",
    "warnings.filterwarnings(\"ignore\")"
   ]
  },
  {
   "cell_type": "markdown",
   "id": "54872c12",
   "metadata": {},
   "source": [
    "# Data Reading"
   ]
  },
  {
   "cell_type": "code",
   "execution_count": 2,
   "id": "cc6b7472",
   "metadata": {},
   "outputs": [],
   "source": [
    "성악 = pd.read_csv('data/성악_라벨_code4.csv')\n",
    "성악 = 성악.iloc[:,1:]\n",
    "\n",
    "교향곡 = pd.read_csv('data/교향곡_라벨_code4.csv')\n",
    "교향곡 = 교향곡.iloc[:,1:]\n",
    "\n",
    "독주 = pd.read_csv('data/독주_라벨_code4.csv')\n",
    "독주 = 독주.iloc[:,1:]\n",
    "\n",
    "콘서트 = pd.read_csv('data/콘서트_라벨_code4.csv')\n",
    "콘서트 = 콘서트.iloc[:,1:]\n",
    "\n",
    "실내악 = pd.read_csv('data/실내악_라벨_code4.csv')\n",
    "실내악 = 실내악.iloc[:,1:]\n",
    "    \n",
    "클래식 = pd.read_csv('data/클래식_라벨_code4.csv')\n",
    "클래식 = 클래식.iloc[:,1:]\n",
    "\n",
    "합창 = pd.read_csv('data/합창_라벨_code4.csv')\n",
    "합창 = 합창.iloc[:,1:]\n",
    "\n",
    "오페라 = pd.read_csv('data/오페라_라벨_code4.csv')\n",
    "오페라 = 오페라.iloc[:,1:]"
   ]
  },
  {
   "cell_type": "code",
   "execution_count": 3,
   "id": "c999ff3d",
   "metadata": {},
   "outputs": [],
   "source": [
    "### little preprocessing \n",
    "\n",
    "# discount & Ori price 생성 \n",
    "성악['discount'] = 성악['discount_type'].str.extract(r'(\\d{2})%', expand=False).fillna('0')\n",
    "성악['ori_price'] = 성악['price'] / (1 - (성악['discount'].astype('int')/100))\n",
    "성악['ori_price'] = 성악['ori_price'].astype('int')\n",
    "\n",
    "콘서트['discount'] = 콘서트['discount_type'].str.extract(r'(\\d{2})%', expand=False).fillna('0')\n",
    "콘서트['ori_price'] = 콘서트['price'] / (1 - (콘서트['discount'].astype('int')/100))\n",
    "콘서트['ori_price'] = 콘서트['ori_price'].astype('int')\n",
    "\n",
    "실내악['discount'] = 실내악['discount_type'].str.extract(r'(\\d{2})%', expand=False).fillna('0')\n",
    "실내악['ori_price'] = 실내악['price'] / (1 - (실내악['discount'].astype('int')/100))\n",
    "실내악['ori_price'] = 실내악['ori_price'].astype('int')\n",
    "\n",
    "클래식['discount'] = 클래식['discount_type'].str.extract(r'(\\d{2})%', expand=False).fillna('0')\n",
    "클래식['ori_price'] = 클래식['price'] / (1 - (클래식['discount'].astype('int')/100))\n",
    "클래식['ori_price'] = 클래식['ori_price'].astype('int')\n",
    "\n",
    "합창['discount'] = 합창['discount_type'].str.extract(r'(\\d{2})%', expand=False).fillna('0')\n",
    "합창['ori_price'] = 합창['price'] / (1 - (합창['discount'].astype('int')/100))\n",
    "합창['ori_price'] = 합창['ori_price'].astype('int')\n",
    "\n",
    "오페라['discount'] = 오페라['discount_type'].str.extract(r'(\\d{2})%', expand=False).fillna('0')\n",
    "오페라['ori_price'] = 오페라['price'] / (1 - (오페라['discount'].astype('int')/100))\n",
    "오페라['ori_price'] = 오페라['ori_price'].astype('int')"
   ]
  },
  {
   "cell_type": "markdown",
   "id": "9d209e96",
   "metadata": {},
   "source": [
    "# column 통일"
   ]
  },
  {
   "cell_type": "markdown",
   "id": "130b98a2",
   "metadata": {},
   "source": [
    "['tran_date', 'tran_time', 'play_date', 'play_st_time', 'price',\n",
    "       'ticket_cancel', 'discount_type', 'performance_code', 'pre_open_date',\n",
    "       'open_date', 'genre', 'running_time', 'intermission', 'member_yn', '층',\n",
    "       '자리번호', '블록(박스)', '열', 'excel' , 'ori_price']"
   ]
  },
  {
   "cell_type": "code",
   "execution_count": 4,
   "id": "a5592043",
   "metadata": {},
   "outputs": [],
   "source": [
    "lst = ['tran_date', 'tran_time', 'play_date', 'play_st_time', 'price',\n",
    "       'ticket_cancel', 'discount_type', 'performance_code', 'pre_open_date',\n",
    "       'open_date', 'genre', 'running_time', 'intermission', 'member_yn', '층',\n",
    "       '자리번호', '블록(박스)', '열', 'excel' , 'ori_price']"
   ]
  },
  {
   "cell_type": "code",
   "execution_count": 5,
   "id": "91abe653",
   "metadata": {},
   "outputs": [],
   "source": [
    "성악 = 성악[lst]\n",
    "\n",
    "콘서트 = 콘서트[lst]\n",
    "\n",
    "실내악 = 실내악[lst]\n",
    "\n",
    "클래식 = 클래식[lst]\n",
    "\n",
    "합창 = 합창[lst]\n",
    "\n",
    "오페라 = 오페라[lst]\n",
    "\n",
    "교향곡 = 교향곡[['tran_date', 'tran_time', 'play_date', 'play_st_time', 'price',\n",
    "       'ticket_cancel', 'discount_type', 'performance_code', 'pre_open_date',\n",
    "       'open_date', 'genre', 'running_time', 'intermission', 'member_yn', '층',\n",
    "       '자리번호', '블록(박스)', '열','labels','ori_price']]\n",
    "\n",
    "교향곡.columns = lst\n",
    "\n",
    "독주 = 독주[['tran_date', 'tran_time', 'play_date', 'play_st_time', 'price',\n",
    "       'ticket_cancel', 'discount_type', 'performance_code', 'pre_open_date',\n",
    "       'open_date', 'genre', 'running_time', 'intermission', 'member_yn', '층',\n",
    "       '자리번호', '블록(박스)', '열','labels','ori_price']]\n",
    "\n",
    "독주.columns = lst"
   ]
  },
  {
   "cell_type": "markdown",
   "id": "179e0acf",
   "metadata": {},
   "source": [
    "# Concat"
   ]
  },
  {
   "cell_type": "code",
   "execution_count": 6,
   "id": "c193fc66",
   "metadata": {},
   "outputs": [],
   "source": [
    "df = pd.concat([성악,콘서트], ignore_index=True)\n",
    "df = pd.concat([df,교향곡], ignore_index=True)\n",
    "df = pd.concat([df,독주], ignore_index=True)\n",
    "df = pd.concat([df,실내악], ignore_index=True)\n",
    "df = pd.concat([df,클래식], ignore_index=True)\n",
    "df = pd.concat([df,합창], ignore_index=True)\n",
    "df = pd.concat([df,오페라], ignore_index=True)"
   ]
  },
  {
   "cell_type": "code",
   "execution_count": 7,
   "id": "e512f09a",
   "metadata": {},
   "outputs": [],
   "source": [
    "df.excel.replace('R', 1,inplace = True )\n",
    "df.excel.replace('S', 2,inplace = True )\n",
    "df.excel.replace('X', 3,inplace = True )\n",
    "df.excel.replace('A', 4,inplace = True )\n",
    "df.excel.replace('B', 5,inplace = True )\n",
    "df.excel.replace('C', 6,inplace = True )\n",
    "df.excel.replace('Y', 7,inplace = True )"
   ]
  },
  {
   "cell_type": "markdown",
   "id": "4f692de8",
   "metadata": {},
   "source": [
    "# Target price Generate"
   ]
  },
  {
   "cell_type": "code",
   "execution_count": 8,
   "id": "187bfe6a",
   "metadata": {},
   "outputs": [],
   "source": [
    "result = df[df['ori_price']!=0].groupby(['genre','excel'])['ori_price'].agg('mean')"
   ]
  },
  {
   "cell_type": "code",
   "execution_count": 9,
   "id": "e1e14e81",
   "metadata": {},
   "outputs": [],
   "source": [
    "df = df.merge(result, on=['genre', 'excel'], how='left', suffixes=('', '_mean'))"
   ]
  },
  {
   "cell_type": "code",
   "execution_count": 10,
   "id": "069dc5b4",
   "metadata": {},
   "outputs": [],
   "source": [
    "df.to_csv('data/target_generated_code5.csv',index = False)"
   ]
  }
 ],
 "metadata": {
  "kernelspec": {
   "display_name": "Python 3 (ipykernel)",
   "language": "python",
   "name": "python3"
  },
  "language_info": {
   "codemirror_mode": {
    "name": "ipython",
    "version": 3
   },
   "file_extension": ".py",
   "mimetype": "text/x-python",
   "name": "python",
   "nbconvert_exporter": "python",
   "pygments_lexer": "ipython3",
   "version": "3.10.9"
  }
 },
 "nbformat": 4,
 "nbformat_minor": 5
}
